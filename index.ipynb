{
 "cells": [
  {
   "cell_type": "markdown",
   "metadata": {},
   "source": [
    "# Machine Learning Notebooks\n",
    "\n",
    "*Welcome to the Machine Learning Notebooks!*\n",
    "\n",
    "[Prerequisites](#Prerequisites) (see below)\n",
    "\n",
    "## Notebooks\n",
    "1. [The Machine Learning landscape](01_the_machine_learning_landscape.ipynb)\n",
    "2. [End-to-end Machine Learning project](02_end_to_end_machine_learning_project.ipynb)\n",
    "3. [Classification](03_classification.ipynb)\n",
    "4. [Training Linear Models](04_training_linear_models.ipynb)\n",
    "5. [Support Vector Machines](05_support_vector_machines.ipynb)\n",
    "6. [Decision Trees](06_decision_trees.ipynb)\n",
    "7. [Ensemble Learning and Random Forests](07_ensemble_learning_and_random_forests.ipynb)\n",
    "8. [Dimensionality Reduction & Unsupervised Learning](08_dimensionality_reduction.ipynb)\n",
    "9. [Up and running with TensorFlow](09_up_and_running_with_tensorflow.ipynb)\n",
    "10. [Introduction to Artificial Neural Networks](10_introduction_to_artificial_neural_networks.ipynb)\n",
    "11. [Deep Learning](11_deep_learning.ipynb)\n",
    "12. [Distributed TensorFlow](12_distributed_tensorflow.ipynb)\n",
    "13. [Convolutional Neural Networks](13_convolutional_neural_networks.ipynb)\n",
    "14. [Recurrent Neural Networks](14_recurrent_neural_networks.ipynb)\n",
    "15. [Autoencoders](15_autoencoders.ipynb)\n",
    "16. [Reinforcement Learning](16_reinforcement_learning.ipynb)\n",
    "\n",
    "## Scientific Python tutorials\n",
    "* [NumPy](tools_numpy.ipynb)\n",
    "* [Matplotlib](tools_matplotlib.ipynb)\n",
    "* [Pandas](tools_pandas.ipynb)\n",
    "\n",
    "## Math Tutorials\n",
    "* [Linear Algebra](math_linear_algebra.ipynb)\n",
    "* Calculus (coming soon)\n",
    "\n",
    "## Extra Material\n",
    "* [Capsule Networks](extra_capsnets.ipynb)\n",
    "* [TensorFlow Reproducibility](extra_tensorflow_reproducibility.ipynb)\n",
    "\n",
    "## Misc.\n",
    "* [Equations](book_equations.ipynb) (list of equations in the book)\n"
   ]
  },
  {
   "cell_type": "markdown",
   "metadata": {
    "collapsed": true
   },
   "source": [
    "## Prerequisites\n",
    "### To understand\n",
    "* **Python** – you don't need to be an expert python programmer, but you do need to know the basics. If you don't, the official [Python tutorial](https://docs.python.org/3/tutorial/) is a good place to start.\n",
    "* **Scientific Python** – We will be using a few popular python libraries, in particular NumPy, matplotlib and pandas. If you are not familiar with these libraries, you should probably start by going through the tutorials in the Tools section (especially NumPy).\n",
    "* **Math** – We will also use some notions of Linear Algebra, Calculus, Statistics and Probability theory. You should be able to follow along if you learned these in the past as it won't be very advanced, but if you don't know about these topics or you need a refresher then go through the appropriate introduction in the Math section.\n",
    "\n",
    "### To run the examples\n",
    "* **Jupyter** – These notebooks are based on Jupyter. If you just plan to read without running any code, there's really nothing more to know, just keep reading! But if you want to experiment with the code examples you need to:\n",
    "    * follow the [installation instructions](https://github.com/ageron/handson-ml/#installation),\n",
    "    * learn how to use Jupyter. Start the User Interface Tour from the Help menu."
   ]
  },
  {
   "cell_type": "code",
   "execution_count": null,
   "metadata": {
    "collapsed": true
   },
   "outputs": [],
   "source": []
  }
 ],
 "metadata": {
  "kernelspec": {
   "display_name": "Python 3",
   "language": "python",
   "name": "python3"
  },
  "language_info": {
   "codemirror_mode": {
    "name": "ipython",
    "version": 3
   },
   "file_extension": ".py",
   "mimetype": "text/x-python",
   "name": "python",
   "nbconvert_exporter": "python",
   "pygments_lexer": "ipython3",
   "version": "3.6.8"
  },
  "nav_menu": {},
  "toc": {
   "navigate_menu": true,
   "number_sections": true,
   "sideBar": true,
   "threshold": 6,
   "toc_cell": false,
   "toc_section_display": "block",
   "toc_window_display": false
  }
 },
 "nbformat": 4,
 "nbformat_minor": 1
}
