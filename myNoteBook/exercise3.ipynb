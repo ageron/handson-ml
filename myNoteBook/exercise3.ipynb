{
 "cells": [
  {
   "cell_type": "code",
   "execution_count": null,
   "outputs": [],
   "source": [
    "%load_ext autoreload\n",
    "%autoreload 2\n",
    "from myNoteBook.utils.titanic.data_clean import NameToLength"
   ],
   "metadata": {
    "collapsed": false,
    "pycharm": {
     "name": "#%%\n",
     "is_executing": true
    }
   }
  },
  {
   "cell_type": "markdown",
   "metadata": {
    "collapsed": true,
    "pycharm": {
     "name": "#%% md\n"
    }
   },
   "source": [
    "## exercise 1\n",
    "\n",
    "1. 因为数据比价慢，所以训练的数据，只是用了1万个。发觉还可以，但是也要跑几分钟\n",
    "2. 结果真的和数据的相关性有关，我1000的时候，准确率只有88%左右\n",
    "3. 不过最后的参数是一样的看了一下他做的练习。有时候不得不说，这类东西是个玄学啊。"
   ]
  },
  {
   "cell_type": "code",
   "execution_count": null,
   "outputs": [],
   "source": [
    "\n",
    "from sklearn.datasets import fetch_openml\n",
    "import numpy as np\n",
    "\n",
    "\n",
    "mnist = fetch_openml('mnist_784', version=1, cache=True)\n",
    "\n",
    "mnist.target = mnist.target.astype(np.int8)\n",
    "mnist[\"data\"],mnist[\"target\"]"
   ],
   "metadata": {
    "collapsed": false,
    "pycharm": {
     "name": "#%%\n",
     "is_executing": true
    }
   }
  },
  {
   "cell_type": "code",
   "execution_count": null,
   "outputs": [],
   "source": [
    "from sklearn.model_selection import StratifiedShuffleSplit\n",
    "\n",
    "X = mnist[\"data\"]\n",
    "Y = mnist[\"target\"]\n",
    "\n",
    "split = StratifiedShuffleSplit(n_splits=1, test_size=0.2, random_state=42)\n",
    "\n",
    "X_train, Y_train,X_test, Y_test = None,None,None,None\n",
    "for train_index, test_index in split.split(X, Y):\n",
    "    X_train = X[train_index]\n",
    "    X_test = X[test_index]\n",
    "    Y_train = Y[train_index]\n",
    "    Y_test = Y[test_index]\n",
    "\n",
    "\"trains size is {}, test size is {}\".format(len(X_train),len(X_test))"
   ],
   "metadata": {
    "collapsed": false,
    "pycharm": {
     "name": "#%%\n",
     "is_executing": true
    }
   }
  },
  {
   "cell_type": "markdown",
   "source": [
    "感觉`KNeighborsClassifier`的predict很慢"
   ],
   "metadata": {
    "collapsed": false,
    "pycharm": {
     "name": "#%% md\n"
    }
   }
  },
  {
   "cell_type": "code",
   "execution_count": null,
   "outputs": [],
   "source": [
    "from sklearn.neighbors import KNeighborsClassifier\n",
    "from sklearn.model_selection import  GridSearchCV\n",
    "\n",
    "knn_clf = KNeighborsClassifier()\n",
    "knn_clf.fit(X_train,Y_train)\n",
    "\n",
    "param_grid = [\n",
    "    {\n",
    "        'weights': [\"uniform\",'distance'],\n",
    "        'n_neighbors': [3,4,5]\n",
    "    }\n",
    "]\n",
    "\n",
    "e1_size = 100\n",
    "grid_search = GridSearchCV(knn_clf, param_grid, cv=5, n_jobs=-1,verbose=3,scoring='accuracy')\n",
    "grid_search.fit(X_train[:e1_size], Y_train[:e1_size])"
   ],
   "metadata": {
    "collapsed": false,
    "pycharm": {
     "name": "#%%\n",
     "is_executing": true
    }
   }
  },
  {
   "cell_type": "code",
   "execution_count": null,
   "outputs": [],
   "source": [
    "grid_search.best_score_"
   ],
   "metadata": {
    "collapsed": false,
    "pycharm": {
     "name": "#%%\n",
     "is_executing": true
    }
   }
  },
  {
   "cell_type": "code",
   "execution_count": null,
   "outputs": [],
   "source": [
    "grid_search.best_params_"
   ],
   "metadata": {
    "collapsed": false,
    "pycharm": {
     "name": "#%%\n",
     "is_executing": true
    }
   }
  },
  {
   "cell_type": "code",
   "execution_count": null,
   "outputs": [],
   "source": [
    "from sklearn.metrics import accuracy_score\n",
    "y_pred = grid_search.predict(X_test)\n",
    "accuracy_score(Y_test,y_pred)\n"
   ],
   "metadata": {
    "collapsed": false,
    "pycharm": {
     "name": "#%%\n",
     "is_executing": true
    }
   }
  },
  {
   "cell_type": "markdown",
   "source": [
    "## exercise 2 。不做了。  \n",
    "不过方式算是了解了。图像数据不够的时候，可以通过这种方式来凑数据。"
   ],
   "metadata": {
    "collapsed": false,
    "pycharm": {
     "name": "#%% md\n"
    }
   }
  },
  {
   "cell_type": "markdown",
   "source": [
    "## exercise3 \n"
   ],
   "metadata": {
    "collapsed": false,
    "pycharm": {
     "name": "#%% md\n"
    }
   }
  },
  {
   "cell_type": "code",
   "execution_count": null,
   "outputs": [],
   "source": [
    "import pandas as pd\n",
    "\n",
    "train_source = pd.read_csv(\"data/titanic/train.csv\")\n",
    "test_source = pd.read_csv(\"data/titanic/test.csv\")\n",
    "\n",
    "train_source['Ticket']\n",
    "train_source.columns"
   ],
   "metadata": {
    "collapsed": false,
    "pycharm": {
     "name": "#%%\n",
     "is_executing": true
    }
   }
  },
  {
   "cell_type": "code",
   "execution_count": null,
   "outputs": [],
   "source": [
    "%matplotlib inline\n",
    "import matplotlib.pyplot as plt\n",
    "train_source.hist(bins=50, figsize=(20,15))\n",
    "plt.show()"
   ],
   "metadata": {
    "collapsed": false,
    "pycharm": {
     "name": "#%%\n",
     "is_executing": true
    }
   }
  },
  {
   "cell_type": "code",
   "execution_count": null,
   "outputs": [],
   "source": [
    "from pandas.plotting import scatter_matrix\n",
    "column=['Survived','Fare','NameLen','Age','SibSp','Parch']\n",
    "train_source['NameLen']=train_source['Name'].apply(len)\n",
    "test_source['NameLen']=test_source['Name'].apply(len)\n",
    "scatter_matrix(train_source[column], figsize=(12, 8))\n",
    "plt.show()"
   ],
   "metadata": {
    "collapsed": false,
    "pycharm": {
     "name": "#%%\n",
     "is_executing": true
    }
   }
  },
  {
   "cell_type": "code",
   "execution_count": null,
   "outputs": [],
   "source": [
    "survived = train_source['Survived']\n",
    "Y_set = survived.values\n",
    "Y_set.shape\n",
    "train_source = train_source.drop(\"Survived\",axis=1)\n"
   ],
   "metadata": {
    "collapsed": false,
    "pycharm": {
     "name": "#%%\n",
     "is_executing": true
    }
   }
  },
  {
   "cell_type": "code",
   "execution_count": null,
   "outputs": [],
   "source": [
    "\n",
    "from sklearn.pipeline import Pipeline\n",
    "from sklearn.compose import ColumnTransformer\n",
    "from sklearn.preprocessing import OneHotEncoder,StandardScaler\n",
    "from sklearn.impute import SimpleImputer\n",
    "\n",
    "num_pipeline = Pipeline([\n",
    "        ('Name',NameToLength()),\n",
    "        ('imputer', SimpleImputer(strategy='median')),\n",
    "        ('std', StandardScaler())\n",
    "])\n",
    "num_attr = ['Age','SibSp','Parch','Fare','Name']\n",
    "\n",
    "prepare_pipeline = ColumnTransformer([\n",
    "    (\"num\",num_pipeline,num_attr),\n",
    "    (\"Pclass\",OneHotEncoder(sparse=False),[\"Pclass\"]),\n",
    "    (\"Sex\",OneHotEncoder(sparse=False),[\"Sex\"]),\n",
    "    #(\"Cabin\",OneHotEncoder(sparse=False),[\"Cabin\"]),\n",
    "    (\"Embarked\",OneHotEncoder(sparse=False),[\"Embarked\"])\n",
    "])\n",
    "train_source[\"Embarked\"] = train_source[\"Embarked\"].fillna('N')\n",
    "train_source[\"Cabin\"] = train_source[\"Cabin\"].fillna('')\n",
    "train_set = prepare_pipeline.fit_transform(train_source)\n",
    "train_set.shape\n"
   ],
   "metadata": {
    "collapsed": false,
    "pycharm": {
     "name": "#%%\n",
     "is_executing": true
    }
   }
  },
  {
   "cell_type": "code",
   "execution_count": null,
   "outputs": [],
   "source": [
    "train_source.columns,test_source.columns"
   ],
   "metadata": {
    "collapsed": false,
    "pycharm": {
     "name": "#%%\n",
     "is_executing": true
    }
   }
  },
  {
   "cell_type": "code",
   "execution_count": null,
   "outputs": [],
   "source": [
    "test_source[\"Embarked\"] = test_source[\"Embarked\"].fillna('N')\n",
    "test_source[\"Cabin\"] = test_source[\"Cabin\"].fillna('')\n",
    "test_set = prepare_pipeline.transform(test_source)\n",
    "test_set.shape\n"
   ],
   "metadata": {
    "collapsed": false,
    "pycharm": {
     "name": "#%%\n",
     "is_executing": true
    }
   }
  },
  {
   "cell_type": "code",
   "execution_count": null,
   "outputs": [],
   "source": [
    "exe_2_knn_clf = KNeighborsClassifier()\n",
    "exe_2_knn_clf.fit(train_set,Y_set)\n"
   ],
   "metadata": {
    "collapsed": false,
    "pycharm": {
     "name": "#%%\n",
     "is_executing": true
    }
   }
  },
  {
   "cell_type": "code",
   "execution_count": null,
   "outputs": [],
   "source": [
    "titantic_pred = exe_2_knn_clf.predict(test_set)\n",
    "titantic_pred.shape"
   ],
   "metadata": {
    "collapsed": false,
    "pycharm": {
     "name": "#%%\n",
     "is_executing": true
    }
   }
  },
  {
   "cell_type": "code",
   "execution_count": null,
   "outputs": [],
   "source": [
    "titanic_real = pd.read_csv(\"data/titanic/gender_submission.csv\")['Survived'].values\n",
    "titanic_real.shape"
   ],
   "metadata": {
    "collapsed": false,
    "pycharm": {
     "name": "#%%\n",
     "is_executing": true
    }
   }
  },
  {
   "cell_type": "code",
   "execution_count": null,
   "outputs": [],
   "source": [
    "from sklearn.metrics import confusion_matrix\n",
    "matrix = confusion_matrix(titanic_real,titantic_pred)\n",
    "matrix\n"
   ],
   "metadata": {
    "collapsed": false,
    "pycharm": {
     "name": "#%%\n",
     "is_executing": true
    }
   }
  },
  {
   "cell_type": "code",
   "execution_count": null,
   "outputs": [],
   "source": [
    "from sklearn.metrics import precision_score,recall_score,f1_score\n",
    "precision = precision_score(titanic_real,titantic_pred)\n",
    "recall= recall_score(titanic_real,titantic_pred)\n",
    "f1 = f1_score(titanic_real,titantic_pred)\n",
    "\"precision score is {}, recall score is {}, f1 score is {}\".format(precision,recall,f1)\n",
    "\n"
   ],
   "metadata": {
    "collapsed": false,
    "pycharm": {
     "name": "#%%\n",
     "is_executing": true
    }
   }
  },
  {
   "cell_type": "code",
   "execution_count": null,
   "outputs": [],
   "source": [
    "param_grid = [\n",
    "    {\n",
    "        'weights': [\"uniform\",'distance'],\n",
    "        'n_neighbors': range(10)\n",
    "    }\n",
    "]\n",
    "\n",
    "exe_2_knn_clf = KNeighborsClassifier()\n",
    "grid_search = GridSearchCV(exe_2_knn_clf, param_grid, cv=5, n_jobs=-1,verbose=3,scoring='accuracy')\n",
    "grid_search.fit(train_set,Y_set)"
   ],
   "metadata": {
    "collapsed": false,
    "pycharm": {
     "name": "#%%\n",
     "is_executing": true
    }
   }
  },
  {
   "cell_type": "code",
   "execution_count": null,
   "outputs": [],
   "source": [
    "grid_search.best_score_"
   ],
   "metadata": {
    "collapsed": false,
    "pycharm": {
     "name": "#%%\n",
     "is_executing": true
    }
   }
  },
  {
   "cell_type": "code",
   "execution_count": null,
   "outputs": [],
   "source": [
    "grid_search.best_params_"
   ],
   "metadata": {
    "collapsed": false,
    "pycharm": {
     "name": "#%%\n",
     "is_executing": true
    }
   }
  },
  {
   "cell_type": "code",
   "execution_count": null,
   "outputs": [],
   "source": [
    "titanic_pred = grid_search.predict(test_set)\n",
    "titanic_pred.shape"
   ],
   "metadata": {
    "collapsed": false,
    "pycharm": {
     "name": "#%%\n",
     "is_executing": true
    }
   }
  },
  {
   "cell_type": "code",
   "execution_count": null,
   "outputs": [],
   "source": [
    "matrix = confusion_matrix(titanic_real,titanic_pred)\n",
    "matrix\n"
   ],
   "metadata": {
    "collapsed": false,
    "pycharm": {
     "name": "#%%\n",
     "is_executing": true
    }
   }
  },
  {
   "cell_type": "code",
   "execution_count": null,
   "outputs": [],
   "source": [
    "from sklearn.metrics import precision_score,recall_score,f1_score\n",
    "precision = precision_score(titanic_real,titanic_pred)\n",
    "recall= recall_score(titanic_real,titanic_pred)\n",
    "f1 = f1_score(titanic_real,titanic_pred)\n",
    "\"precision score is {}, recall score is {}, f1 score is {}\".format(precision,recall,f1)"
   ],
   "metadata": {
    "collapsed": false,
    "pycharm": {
     "name": "#%%\n",
     "is_executing": true
    }
   }
  }
 ],
 "metadata": {
  "kernelspec": {
   "display_name": "Python 3",
   "language": "python",
   "name": "python3"
  },
  "language_info": {
   "codemirror_mode": {
    "name": "ipython",
    "version": 2
   },
   "file_extension": ".py",
   "mimetype": "text/x-python",
   "name": "python",
   "nbconvert_exporter": "python",
   "pygments_lexer": "ipython2",
   "version": "2.7.6"
  },
  "pycharm": {
   "stem_cell": {
    "cell_type": "raw",
    "source": [],
    "metadata": {
     "collapsed": false
    }
   }
  }
 },
 "nbformat": 4,
 "nbformat_minor": 0
}