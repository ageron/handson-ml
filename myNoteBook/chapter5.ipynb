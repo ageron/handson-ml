{
 "cells": [
  {
   "cell_type": "markdown",
   "metadata": {
    "pycharm": {
     "name": "#%% md\n"
    }
   },
   "source": [
    "## 总结\n",
    "\n",
    "关于这个向量机。如果把所有的特征，组成一个向量，然后组成一个向量空间。最后，用一个平面(纬度比空间低一个纬度的空间)来区分这些向量。然后我们看到的就是投影。但是我没法证明，\n",
    "也不能用公式表述。\n",
    "\n",
    "然后本章，就是把这些不同的向量机给我展现一下。看下来，关键是几个变量\n",
    "\n",
    "- C\n",
    "- Kernel\n",
    "\n",
    "## linear SVM\n",
    "\n",
    "线性的svm，本质就是`Ax=0`求解。从线性代数来说，解会形成一个向量空间。然后这个空间中`||w||`最小的值。其实这个从线性代数的角度理解。而我的\n",
    "线性代数，是四分之一桶水，说不清楚，就是脑子里面的图像。  \n",
    "然后这些从二维到三维的可以方便的有几何图像来理解。到了更好纬度，也就是有更多特征的时候，估计只能凭借这些理解了。\n",
    "\n",
    "然后就文中的例子来说。边界线，在几何上面来理解。也就是分割线。实际上，就是进行了**空间分割**"
   ]
  },
  {
   "cell_type": "code",
   "execution_count": 7,
   "metadata": {
    "collapsed": true,
    "pycharm": {
     "is_executing": false
    }
   },
   "outputs": [
    {
     "data": {
      "text/plain": [
       "Pipeline(memory=None,\n",
       "         steps=[('scaler',\n",
       "                 StandardScaler(copy=True, with_mean=True, with_std=True)),\n",
       "                ('linear_svc',\n",
       "                 LinearSVC(C=1, class_weight=None, dual=True,\n",
       "                           fit_intercept=True, intercept_scaling=1,\n",
       "                           loss='hinge', max_iter=1000, multi_class='ovr',\n",
       "                           penalty='l2', random_state=None, tol=0.0001,\n",
       "                           verbose=0))],\n",
       "         verbose=False)"
      ]
     },
     "execution_count": 7,
     "metadata": {},
     "output_type": "execute_result"
    }
   ],
   "source": [
    "import numpy as np\n",
    "from sklearn import datasets\n",
    "from sklearn.pipeline import Pipeline\n",
    "from sklearn.preprocessing import StandardScaler\n",
    "from sklearn.svm import  LinearSVC\n",
    "\n",
    "iris = datasets.load_iris()\n",
    "X = iris[\"data\"][:,(2,3)]\n",
    "y = (iris[\"target\"] == 2).astype(np.float64)\n",
    "\n",
    "svm_clf = Pipeline([\n",
    "    (\"scaler\",StandardScaler()),\n",
    "    (\"linear_svc\",LinearSVC(C=1,loss=\"hinge\"))\n",
    "])\n",
    "\n",
    "svm_clf.fit(X,y)"
   ]
  },
  {
   "cell_type": "code",
   "execution_count": 8,
   "metadata": {
    "pycharm": {
     "is_executing": false,
     "name": "#%%\n"
    }
   },
   "outputs": [
    {
     "data": {
      "text/plain": [
       "array([1.])"
      ]
     },
     "execution_count": 8,
     "metadata": {},
     "output_type": "execute_result"
    }
   ],
   "source": [
    "svm_clf.predict([[5.5,1.7]])\n"
   ]
  },
  {
   "cell_type": "markdown",
   "metadata": {
    "pycharm": {
     "name": "#%% md\n"
    }
   },
   "source": [
    "## Nonlinear SVM classification\n",
    "\n",
    "其实这里，我有点理解 polynomial feature的作用。\n",
    "简单的来说，就是你有一杯可乐。一杯牛奶。你单独喝，只有一种口味。但是你1/2的可乐和1/2的牛奶。1/3的可乐，2/3的可乐。就变成3种饮料。"
   ]
  },
  {
   "cell_type": "code",
   "execution_count": 9,
   "metadata": {
    "pycharm": {
     "is_executing": false,
     "name": "#%%\n"
    }
   },
   "outputs": [
    {
     "name": "stderr",
     "output_type": "stream",
     "text": [
      "/Users/chandlersong/.conda/envs/MLBase/lib/python3.7/site-packages/sklearn/svm/_base.py:947: ConvergenceWarning: Liblinear failed to converge, increase the number of iterations.\n",
      "  \"the number of iterations.\", ConvergenceWarning)\n"
     ]
    },
    {
     "data": {
      "text/plain": [
       "Pipeline(memory=None,\n",
       "         steps=[('poly_features',\n",
       "                 PolynomialFeatures(degree=3, include_bias=True,\n",
       "                                    interaction_only=False, order='C')),\n",
       "                ('scaler',\n",
       "                 StandardScaler(copy=True, with_mean=True, with_std=True)),\n",
       "                ('svm_clf',\n",
       "                 LinearSVC(C=10, class_weight=None, dual=True,\n",
       "                           fit_intercept=True, intercept_scaling=1,\n",
       "                           loss='hinge', max_iter=1000, multi_class='ovr',\n",
       "                           penalty='l2', random_state=None, tol=0.0001,\n",
       "                           verbose=0))],\n",
       "         verbose=False)"
      ]
     },
     "execution_count": 9,
     "metadata": {},
     "output_type": "execute_result"
    }
   ],
   "source": [
    "from sklearn.datasets import make_moons\n",
    "from sklearn.preprocessing import PolynomialFeatures\n",
    "\n",
    "X,y = make_moons(n_samples=100,noise=0.15)\n",
    "ploynomial_svm_clf = Pipeline([\n",
    "    (\"poly_features\",PolynomialFeatures(degree=3)),\n",
    "    (\"scaler\",StandardScaler()),\n",
    "    (\"svm_clf\",LinearSVC(C=10,loss=\"hinge\"))\n",
    "])\n",
    "\n",
    "ploynomial_svm_clf.fit(X,y)"
   ]
  },
  {
   "cell_type": "code",
   "execution_count": 10,
   "metadata": {
    "pycharm": {
     "is_executing": false,
     "name": "#%%\n"
    }
   },
   "outputs": [
    {
     "data": {
      "text/plain": [
       "(100, 10)"
      ]
     },
     "execution_count": 10,
     "metadata": {},
     "output_type": "execute_result"
    }
   ],
   "source": [
    "ploynomial = PolynomialFeatures(degree=3)\n",
    "ploynomial.fit_transform(X,y).shape"
   ]
  },
  {
   "cell_type": "markdown",
   "metadata": {
    "pycharm": {
     "is_executing": false,
     "name": "#%% md\n"
    }
   },
   "source": [
    "- 下面介绍两个常用的kernel。其他kernel用的不多。\n",
    "- 首先尝试用LinearSVC。这个快。\n",
    "\n",
    "### polynomial Kernel\n",
    "\n",
    "总结一下吧\n",
    "\n",
    "1. polynomial feature这种技术很NB。因为可以\"增加\" feature。但是对性能要求很高。\n",
    "2. 缺点是性能很糟糕。\n",
    "3. 这里面有一种核技术(kernel trick)获得收益的时候，不会有太大的性能损耗。\n",
    "\n",
    "然后用ploynomial的时候，如果overfitting，就减少degree。反之，则减少degree。\n",
    "\n",
    "cef0受高阶还是低阶函数影响。我真的不知道。\n"
   ]
  },
  {
   "cell_type": "code",
   "execution_count": 14,
   "metadata": {
    "pycharm": {
     "is_executing": false,
     "name": "#%%\n"
    }
   },
   "outputs": [
    {
     "data": {
      "image/png": "[encoded data removed]",
      "text/plain": [
       "<Figure size 792x576 with 4 Axes>"
      ]
     },
     "metadata": {
      "needs_background": "light"
     },
     "output_type": "display_data"
    }
   ],
   "source": [
    "from sklearn.svm import SVC\n",
    "import matplotlib.pyplot as plt\n",
    "\n",
    "\n",
    "\n",
    "def plot_dataset(ax, X, y, axes):\n",
    "    ax.plot(X[:, 0][y==0], X[:, 1][y==0], \"bs\")\n",
    "    ax.plot(X[:, 0][y==1], X[:, 1][y==1], \"g^\")\n",
    "    ax.axis(axes)\n",
    "    ax.grid(True, which='both')\n",
    "    ax.set(xlabel=r\"$x_1$\", ylabel=r\"$x_2$\")\n",
    "\n",
    "def plot_predictions(ax,clf,axes):\n",
    "    x0s = np.linspace(axes[0],axes[1],100)\n",
    "    x1s = np.linspace(axes[2],axes[3],100)\n",
    "    x0,x1= np.meshgrid(x0s,x1s)\n",
    "    X = np.c_[x0.ravel(),x1.ravel()]\n",
    "    y_pred = clf.predict(X).reshape(x0.shape)\n",
    "    y_decision = clf.decision_function(X).reshape(x0.shape)\n",
    "    \n",
    "    ax.contourf(x0,x1,y_pred,cmap=plt.cm.brg, alpha=0.2)\n",
    "    ax.contourf(x0,x1,y_decision,cmap=plt.cm.brg, alpha=0.1)\n",
    "    \n",
    "from sklearn.datasets import make_moons\n",
    "X, y = make_moons(n_samples=100, noise=0.15, random_state=42)\n",
    "\n",
    "def create_svc_ploy_model(d,r,C):\n",
    "    ploy_kernel_svm_clf = Pipeline([\n",
    "        (\"poly_features\", PolynomialFeatures(degree=3)),\n",
    "        (\"scaler\", StandardScaler()),\n",
    "        (\"svm_clf\", SVC(kernel=\"poly\",degree=d,coef0=r,C=C))\n",
    "    ])\n",
    "    \n",
    "    ploy_kernel_svm_clf.fit(X,y)\n",
    "    return ploy_kernel_svm_clf\n",
    "\n",
    "fig, axs = plt.subplots(2,2,figsize=(11, 8))\n",
    "axis_size = [-1.5,2.5,-1,1.5]\n",
    "plot_predictions(axs[0,0],create_svc_ploy_model(10,100,5),axis_size)\n",
    "axs[0,0].set_title(r\"$d=10, r=100, C=5$\",)\n",
    "plot_predictions(axs[0,1],create_svc_ploy_model(10,1,5),axis_size)\n",
    "axs[0,1].set_title(r\"$d=10, r=1, C=5$\",)\n",
    "plot_predictions(axs[1,0],create_svc_ploy_model(3,100,5),axis_size)\n",
    "axs[1,0].set_title(r\"$d=3, r=100, C=5$\",)\n",
    "plot_predictions(axs[1,1],create_svc_ploy_model(3,1,5),axis_size)\n",
    "axs[1,1].set_title(r\"$d=3, r=1, C=5$\",)\n",
    "\n",
    "for ax in axs.ravel():\n",
    "    plot_dataset(ax,X,y,axis_size)\n",
    "\n",
    "\n",
    "\n",
    "plt.show()"
   ]
  },
  {
   "cell_type": "markdown",
   "metadata": {},
   "source": [
    "### Gaussian RBF\n",
    "\n",
    "另一种处理方式。看那个公式，我已经没有感觉了。简单的来说，从逻辑上来说，就是为了确定一个点，然后计算和这个点的距离0为最远，1为最近的函数。\n",
    "类似于这样，就把所有的数据变成**钟形**了。和二次一样。\n",
    "\n",
    "\n",
    "\n",
    "- 其实所有的计算，都是线性代数的做法。\n",
    "- 和ploy一样。他也有其kernel函数\n",
    "\n",
    "- gramma($\\gamma$)类似与上文中degree是一个作用。"
   ]
  },
  {
   "cell_type": "code",
   "execution_count": 12,
   "metadata": {
    "pycharm": {
     "is_executing": false,
     "name": "#%%\n"
    }
   },
   "outputs": [
    {
     "data": {
      "text/plain": [
       "Pipeline(memory=None,\n",
       "         steps=[('scaler',\n",
       "                 StandardScaler(copy=True, with_mean=True, with_std=True)),\n",
       "                ('svm_clf',\n",
       "                 SVC(C=0.001, break_ties=False, cache_size=200,\n",
       "                     class_weight=None, coef0=0.0,\n",
       "                     decision_function_shape='ovr', degree=3, gamma=5,\n",
       "                     kernel='rbf', max_iter=-1, probability=False,\n",
       "                     random_state=None, shrinking=True, tol=0.001,\n",
       "                     verbose=False))],\n",
       "         verbose=False)"
      ]
     },
     "execution_count": 12,
     "metadata": {},
     "output_type": "execute_result"
    }
   ],
   "source": [
    "rbf_kernel_svm_clf = Pipeline([\n",
    "    (\"scaler\",StandardScaler()),\n",
    "    (\"svm_clf\",SVC(kernel=\"rbf\",gamma=5,C=0.001))\n",
    "])\n",
    "\n",
    "rbf_kernel_svm_clf.fit(X,y)"
   ]
  },
  {
   "cell_type": "markdown",
   "metadata": {},
   "source": [
    "## SVM Regression\n",
    "\n",
    "简单的来说，就是变换目标。使得定，精良在这个街道上面。\n",
    "\n",
    "## under hood\n",
    "\n",
    "前面看懂了。其实就是一个$Ax=b$的问题，然后求解了一个空间。而这个空间中来的斜率和第一章的街成反比\n",
    "\n",
    "但是有后面完全看不懂。找了一些资料。完全看不懂什么是什么。就是感觉是一个已知方程的优化问题。\n",
    "\n",
    "- [wiki上的说明](https://zh.wikipedia.org/wiki/%E4%BA%8C%E6%AC%A1%E8%A7%84%E5%88%92)\n",
    "- [一些资料](https://cbb1996.com/2019/07/20/3-convexop/)\n",
    "\n",
    "\n",
    "-  `convex quadratic optimization problems`\n",
    "-  `The dual problem`\n",
    "-  `kernelized SVM`\n"
   ]
  }
 ],
 "metadata": {
  "kernelspec": {
   "display_name": "Python 3",
   "language": "python",
   "name": "python3"
  },
  "language_info": {
   "codemirror_mode": {
    "name": "ipython",
    "version": 3
   },
   "file_extension": ".py",
   "mimetype": "text/x-python",
   "name": "python",
   "nbconvert_exporter": "python",
   "pygments_lexer": "ipython3",
   "version": "3.7.6"
  },
  "pycharm": {
   "stem_cell": {
    "cell_type": "raw",
    "source": [],
    "metadata": {
     "collapsed": false
    }
   }
  }
 },
 "nbformat": 4,
 "nbformat_minor": 1
}