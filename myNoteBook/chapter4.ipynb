{
 "cells": [
  {
   "cell_type": "markdown",
   "source": [
    "首先，说点完全看不懂的吧。就是最前面的公式推导。为什么最后下面的公式，我是完全看不懂。\n",
    "因为这些涉及的都是一些矩阵的运算。这个我看的云里雾里。\n",
    "\n",
    "- 这些都是线性代数的表达。$y=4*x_0+3*x_1$\n",
    "\n",
    "$\\begin{bmatrix}3 & 4\\end{bmatrix}*\\begin{bmatrix}x_0 & x_1\\end{bmatrix}$\n",
    "\n",
    "- 这里的成本函数，其实我还不是太理解。我开始以为，只是简单的做了一个线性拟合。其实其他来讲，就是在处理线性拟合。\n",
    "    - MSE(方差)：这个实践中，用的最多。\n",
    "    - RMSE(均方根差)：\n",
    "    - 从统计学上来说，MSE最小，就是穿过的划的线和实际的点之间的距离差最小。\n",
    "    - 然后这里，是一个性能指标。而这个**性能最好**，就表示，**成本最低**\n",
    "- `theta_best`这个是求出来的成本函数。但是这里就是一条线，串起来所有点的方案。\n",
    "- `X`：其实这里，求的$x_1$\n",
    "- `X_b`: 是如下的矩阵。$\\begin{bmatrix}x_0 & x_1\\end{bmatrix}$，然后$x_0$,永远是1\n",
    "\n"
   ],
   "metadata": {
    "collapsed": false,
    "pycharm": {
     "name": "#%% md\n"
    }
   }
  },
  {
   "cell_type": "code",
   "execution_count": 1,
   "metadata": {
    "collapsed": true,
    "pycharm": {
     "is_executing": false
    }
   },
   "outputs": [
    {
     "data": {
      "text/plain": "array([[3.84476339],\n       [3.19833042]])"
     },
     "metadata": {},
     "output_type": "execute_result",
     "execution_count": 1
    }
   ],
   "source": [
    "import numpy as np\n",
    "\n",
    "\n",
    "X = 2 * np.random.rand(100,1)\n",
    "y = 4 + 3 * X + np.random.randn(100,1)\n",
    "\n",
    "X_b = np.c_[np.ones((100,1)),X]\n",
    "\n",
    "theta_best = np.linalg.inv(X_b.T.dot(X_b)).dot(X_b.T).dot(y)\n",
    "theta_best"
   ]
  },
  {
   "cell_type": "code",
   "execution_count": 2,
   "outputs": [
    {
     "data": {
      "text/plain": "<Figure size 432x288 with 1 Axes>",
      "image/png": "[encoded data removed]"
     },
     "metadata": {
      "needs_background": "light"
     },
     "output_type": "display_data"
    }
   ],
   "source": [
    "import matplotlib as mpl\n",
    "import matplotlib.pyplot as plt\n",
    "\n",
    "plt.plot(X,y,\"b.\")\n",
    "plt.xlabel(\"$X_1$\")\n",
    "plt.ylabel(\"$y$\")\n",
    "plt.xlabel(\"$x_1$\", fontsize=18)\n",
    "plt.ylabel(\"$y$\", rotation=0, fontsize=18)\n",
    "plt.axis([0, 2, 0, 15])\n",
    "plt.show()"
   ],
   "metadata": {
    "collapsed": false,
    "pycharm": {
     "name": "#%%\n",
     "is_executing": false
    }
   }
  },
  {
   "cell_type": "code",
   "execution_count": 3,
   "outputs": [
    {
     "data": {
      "text/plain": "array([[ 3.84476339],\n       [10.24142423]])"
     },
     "metadata": {},
     "output_type": "execute_result",
     "execution_count": 3
    }
   ],
   "source": [
    "X_new = np.array([[0],[2]])\n",
    "X_new_b = np.c_[np.ones((2,1)),X_new]\n",
    "y_predict = X_new_b.dot(theta_best)\n",
    "y_predict"
   ],
   "metadata": {
    "collapsed": false,
    "pycharm": {
     "name": "#%%\n",
     "is_executing": false
    }
   }
  },
  {
   "cell_type": "code",
   "execution_count": 4,
   "outputs": [
    {
     "data": {
      "text/plain": "<Figure size 432x288 with 1 Axes>",
      "image/png": "[encoded data removed]"
     },
     "metadata": {
      "needs_background": "light"
     },
     "output_type": "display_data"
    }
   ],
   "source": [
    "plt.plot(X_new,y_predict,\"r-\")\n",
    "plt.plot(X,y,\"b.\")\n",
    "plt.xlabel(\"$X_1$\")\n",
    "plt.ylabel(\"$y$\")\n",
    "plt.xlabel(\"$x_1$\", fontsize=18)\n",
    "plt.ylabel(\"$y$\", rotation=0, fontsize=18)\n",
    "plt.axis([0, 2, 0, 15])\n",
    "plt.show()"
   ],
   "metadata": {
    "collapsed": false,
    "pycharm": {
     "name": "#%%\n",
     "is_executing": false
    }
   }
  },
  {
   "cell_type": "code",
   "execution_count": 5,
   "outputs": [
    {
     "data": {
      "text/plain": "(array([3.84476339]), array([[3.19833042]]))"
     },
     "metadata": {},
     "output_type": "execute_result",
     "execution_count": 5
    }
   ],
   "source": [
    "from sklearn.linear_model import LinearRegression\n",
    "lin_reg = LinearRegression()\n",
    "lin_reg.fit(X,y)\n",
    "lin_reg.intercept_,lin_reg.coef_"
   ],
   "metadata": {
    "collapsed": false,
    "pycharm": {
     "name": "#%%\n",
     "is_executing": false
    }
   }
  },
  {
   "cell_type": "markdown",
   "source": [
    "## 梯度\n",
    "\n",
    "关于梯度，简单的来说，就是越接近最低点。那么其数据就越小。这个具体的展开，最好看看高数。这里展开其实没有太大的意义的。\n",
    "\n",
    "就程序层面说，我总结了以下几点\n",
    "\n",
    "- 所有的公式的推导都是黑盒。拿来用就好\n",
    "- 其实到这里，很多都是线性代数用的地方。\n",
    "- numpy关于线性代数的api来弄\n",
    "\n",
    "三个梯度下降的区别。\n",
    "- 批量：用的全集\n",
    "- 随机：随机挑一个数据点来算，可以用`SGDRegressor`\n",
    "- 小批量： 随机挑几个。\n",
    "\n",
    "用猜，其实也明白这些的区别在哪里了。\n",
    "- 批量的**全**，但是**慢**，\n",
    "- 随机的话**快**，但是容易产生**偏执**。就像是文中说的容易陷入局部最小值。\n",
    "- 小批量**两者之间**\n",
    "\n",
    "到底哪个好，我觉得看成本。至少到目前位置。我个人觉得，其实这个预测的本质，还是找方向，而不是找点。\n",
    "所以来说很多东西就没有那么确定了。\n",
    "\n",
    "核外的意思是数据集之外。\n",
    "\n",
    "说道现在$\\theta_0$和$\\theta_1$。求的还是这些估算点之间的关系。也就是从x到y的方程。  \n",
    "而成本函数，其实就是预测值和Y的差。\n",
    "\n",
    "然后第一方法，就是通过数学公式算出来。\n",
    "\n",
    "梯度下降则是通过方式试出来。三种方式，本质就是算每次的变化量的区别。\n"
   ],
   "metadata": {
    "collapsed": false,
    "pycharm": {
     "name": "#%% md\n"
    }
   }
  },
  {
   "cell_type": "code",
   "execution_count": 6,
   "outputs": [],
   "source": [
    "def plot_gradients_changes(theta_array):\n",
    "    \n",
    "    for theta_value in theta_array:\n",
    "        x_value = np.array([[0],[2]])\n",
    "        x_matrix = np.c_[np.ones((2,1)),X_new]\n",
    "        y_value = x_matrix.dot(theta_value)\n",
    "        plt.plot(x_value,y_value,\"r-\")\n",
    "    plt.plot(X,y,\"b.\")\n",
    "    plt.xlabel(\"$X_1$\")\n",
    "    plt.ylabel(\"$y$\")\n",
    "    plt.xlabel(\"$x_1$\", fontsize=18)\n",
    "    plt.ylabel(\"$y$\", rotation=0, fontsize=18)\n",
    "    plt.axis([0, 2, 0, 15])\n",
    "    plt.show()"
   ],
   "metadata": {
    "collapsed": false,
    "pycharm": {
     "name": "#%%\n",
     "is_executing": false
    }
   }
  },
  {
   "cell_type": "code",
   "execution_count": 7,
   "outputs": [
    {
     "data": {
      "text/plain": "array([[3.84476339],\n       [3.19833042]])"
     },
     "metadata": {},
     "output_type": "execute_result",
     "execution_count": 7
    }
   ],
   "source": [
    "eta = 0.1\n",
    "n_iterations = 1000\n",
    "m = 100\n",
    "\n",
    "theta = np.random.randn(2,1)\n",
    "thetas = []\n",
    "for iterator in range(n_iterations):\n",
    "    gradients = 2/m*X_b.T.dot(X_b.dot(theta)-y)\n",
    "    theta = theta - eta*gradients\n",
    "    if iterator % 200 == 0:\n",
    "        thetas.append(theta)\n",
    "    \n",
    "theta"
   ],
   "metadata": {
    "collapsed": false,
    "pycharm": {
     "name": "#%%\n",
     "is_executing": false
    }
   }
  },
  {
   "cell_type": "code",
   "execution_count": 8,
   "outputs": [
    {
     "data": {
      "text/plain": "<Figure size 432x288 with 1 Axes>",
      "image/png": "[encoded data removed]"
     },
     "metadata": {
      "needs_background": "light"
     },
     "output_type": "display_data"
    }
   ],
   "source": [
    "plot_gradients_changes(thetas)\n"
   ],
   "metadata": {
    "collapsed": false,
    "pycharm": {
     "name": "#%%\n",
     "is_executing": false
    }
   }
  }
 ],
 "metadata": {
  "kernelspec": {
   "display_name": "Python 3",
   "language": "python",
   "name": "python3"
  },
  "language_info": {
   "codemirror_mode": {
    "name": "ipython",
    "version": 2
   },
   "file_extension": ".py",
   "mimetype": "text/x-python",
   "name": "python",
   "nbconvert_exporter": "python",
   "pygments_lexer": "ipython2",
   "version": "2.7.6"
  },
  "pycharm": {
   "stem_cell": {
    "cell_type": "raw",
    "source": [],
    "metadata": {
     "collapsed": false
    }
   }
  }
 },
 "nbformat": 4,
 "nbformat_minor": 0
}